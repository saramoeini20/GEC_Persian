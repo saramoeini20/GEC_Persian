{
  "nbformat": 4,
  "nbformat_minor": 0,
  "metadata": {
    "colab": {
      "provenance": [],
      "mount_file_id": "1-Tq39g89h0iMYT7wq3cKYdOg_8N7WPaJ",
      "authorship_tag": "ABX9TyO8HGXGYj/GRxQ4jRbmn8Bj",
      "include_colab_link": true
    },
    "kernelspec": {
      "name": "python3",
      "display_name": "Python 3"
    },
    "language_info": {
      "name": "python"
    }
  },
  "cells": [
    {
      "cell_type": "markdown",
      "metadata": {
        "id": "view-in-github",
        "colab_type": "text"
      },
      "source": [
        "<a href=\"https://colab.research.google.com/github/saramoeini20/GEC_Persian/blob/main/POSTagging.ipynb\" target=\"_parent\"><img src=\"https://colab.research.google.com/assets/colab-badge.svg\" alt=\"Open In Colab\"/></a>"
      ]
    },
    {
      "cell_type": "markdown",
      "source": [
        "library"
      ],
      "metadata": {
        "id": "Yw4QDhBFg6rA"
      }
    },
    {
      "cell_type": "code",
      "source": [
        "!pip install hazm"
      ],
      "metadata": {
        "colab": {
          "base_uri": "https://localhost:8080/",
          "height": 769
        },
        "id": "16Tth96Eg6LB",
        "outputId": "e5f4e07b-9e64-4d6f-a119-e492884d4398"
      },
      "execution_count": null,
      "outputs": [
        {
          "output_type": "stream",
          "name": "stdout",
          "text": [
            "Collecting hazm\n",
            "  Downloading hazm-0.9.3-py3-none-any.whl (367 kB)\n",
            "\u001b[2K     \u001b[90m━━━━━━━━━━━━━━━━━━━━━━━━━━━━━━━━━━━━━━━\u001b[0m \u001b[32m367.5/367.5 kB\u001b[0m \u001b[31m5.6 MB/s\u001b[0m eta \u001b[36m0:00:00\u001b[0m\n",
            "\u001b[?25hCollecting fasttext-wheel<0.10.0,>=0.9.2 (from hazm)\n",
            "  Downloading fasttext_wheel-0.9.2-cp310-cp310-manylinux_2_17_x86_64.manylinux2014_x86_64.whl (4.4 MB)\n",
            "\u001b[2K     \u001b[90m━━━━━━━━━━━━━━━━━━━━━━━━━━━━━━━━━━━━━━━━\u001b[0m \u001b[32m4.4/4.4 MB\u001b[0m \u001b[31m60.6 MB/s\u001b[0m eta \u001b[36m0:00:00\u001b[0m\n",
            "\u001b[?25hRequirement already satisfied: gensim<5.0.0,>=4.3.1 in /usr/local/lib/python3.10/dist-packages (from hazm) (4.3.1)\n",
            "Requirement already satisfied: nltk<4.0.0,>=3.8.1 in /usr/local/lib/python3.10/dist-packages (from hazm) (3.8.1)\n",
            "Collecting numpy<2.0.0,>=1.24.3 (from hazm)\n",
            "  Downloading numpy-1.25.2-cp310-cp310-manylinux_2_17_x86_64.manylinux2014_x86_64.whl (18.2 MB)\n",
            "\u001b[2K     \u001b[90m━━━━━━━━━━━━━━━━━━━━━━━━━━━━━━━━━━━━━━━━\u001b[0m \u001b[32m18.2/18.2 MB\u001b[0m \u001b[31m45.9 MB/s\u001b[0m eta \u001b[36m0:00:00\u001b[0m\n",
            "\u001b[?25hCollecting python-crfsuite<0.10.0,>=0.9.9 (from hazm)\n",
            "  Downloading python_crfsuite-0.9.9-cp310-cp310-manylinux_2_17_x86_64.manylinux2014_x86_64.whl (993 kB)\n",
            "\u001b[2K     \u001b[90m━━━━━━━━━━━━━━━━━━━━━━━━━━━━━━━━━━━━━━\u001b[0m \u001b[32m993.5/993.5 kB\u001b[0m \u001b[31m49.0 MB/s\u001b[0m eta \u001b[36m0:00:00\u001b[0m\n",
            "\u001b[?25hRequirement already satisfied: scikit-learn<2.0.0,>=1.2.2 in /usr/local/lib/python3.10/dist-packages (from hazm) (1.2.2)\n",
            "Collecting pybind11>=2.2 (from fasttext-wheel<0.10.0,>=0.9.2->hazm)\n",
            "  Downloading pybind11-2.11.1-py3-none-any.whl (227 kB)\n",
            "\u001b[2K     \u001b[90m━━━━━━━━━━━━━━━━━━━━━━━━━━━━━━━━━━━━━━\u001b[0m \u001b[32m227.7/227.7 kB\u001b[0m \u001b[31m17.8 MB/s\u001b[0m eta \u001b[36m0:00:00\u001b[0m\n",
            "\u001b[?25hRequirement already satisfied: setuptools>=0.7.0 in /usr/local/lib/python3.10/dist-packages (from fasttext-wheel<0.10.0,>=0.9.2->hazm) (67.7.2)\n",
            "Requirement already satisfied: scipy>=1.7.0 in /usr/local/lib/python3.10/dist-packages (from gensim<5.0.0,>=4.3.1->hazm) (1.10.1)\n",
            "Requirement already satisfied: smart-open>=1.8.1 in /usr/local/lib/python3.10/dist-packages (from gensim<5.0.0,>=4.3.1->hazm) (6.3.0)\n",
            "Requirement already satisfied: click in /usr/local/lib/python3.10/dist-packages (from nltk<4.0.0,>=3.8.1->hazm) (8.1.6)\n",
            "Requirement already satisfied: joblib in /usr/local/lib/python3.10/dist-packages (from nltk<4.0.0,>=3.8.1->hazm) (1.3.2)\n",
            "Requirement already satisfied: regex>=2021.8.3 in /usr/local/lib/python3.10/dist-packages (from nltk<4.0.0,>=3.8.1->hazm) (2023.6.3)\n",
            "Requirement already satisfied: tqdm in /usr/local/lib/python3.10/dist-packages (from nltk<4.0.0,>=3.8.1->hazm) (4.66.1)\n",
            "Requirement already satisfied: threadpoolctl>=2.0.0 in /usr/local/lib/python3.10/dist-packages (from scikit-learn<2.0.0,>=1.2.2->hazm) (3.2.0)\n",
            "Installing collected packages: python-crfsuite, pybind11, numpy, fasttext-wheel, hazm\n",
            "  Attempting uninstall: numpy\n",
            "    Found existing installation: numpy 1.23.5\n",
            "    Uninstalling numpy-1.23.5:\n",
            "      Successfully uninstalled numpy-1.23.5\n",
            "\u001b[31mERROR: pip's dependency resolver does not currently take into account all the packages that are installed. This behaviour is the source of the following dependency conflicts.\n",
            "numba 0.56.4 requires numpy<1.24,>=1.18, but you have numpy 1.25.2 which is incompatible.\n",
            "tensorflow 2.12.0 requires numpy<1.24,>=1.22, but you have numpy 1.25.2 which is incompatible.\u001b[0m\u001b[31m\n",
            "\u001b[0mSuccessfully installed fasttext-wheel-0.9.2 hazm-0.9.3 numpy-1.25.2 pybind11-2.11.1 python-crfsuite-0.9.9\n"
          ]
        },
        {
          "output_type": "display_data",
          "data": {
            "application/vnd.colab-display-data+json": {
              "pip_warning": {
                "packages": [
                  "numpy"
                ]
              }
            }
          },
          "metadata": {}
        }
      ]
    },
    {
      "cell_type": "code",
      "source": [
        "from hazm import *"
      ],
      "metadata": {
        "id": "EqVr4ttMhQJJ"
      },
      "execution_count": 2,
      "outputs": []
    },
    {
      "cell_type": "markdown",
      "source": [
        "##Prepare DataSet Based On Each Error"
      ],
      "metadata": {
        "id": "mQzxxYjGCNYe"
      }
    },
    {
      "cell_type": "code",
      "source": [
        "CLITIC_lines = 0\n",
        "Redunduncy_1_lines = 0\n",
        "Redunduncy_2_lines = 0\n",
        "\n",
        "with open(\"/content/drive/MyDrive/GEC/Data/News\", \"r\") as DataFile, open(\"/content/drive/MyDrive/GEC/Data/CLITIC/Data\", \"w\") as CLITIC,open(\"/content/drive/MyDrive/GEC/Data/Redundancy/AncheKe/Data\", \"w\") as Redun1, open(\"/content/drive/MyDrive/GEC/Data/Redundancy/AgarcheAmma/Data\", \"w\") as Redun2:\n",
        "  for line in DataFile:\n",
        "    if 'را' in line.split():\n",
        "      CLITIC_lines = CLITIC_lines + 1\n",
        "      CLITIC.write(line)\n",
        "\n",
        "    # آنچه ...... که\n",
        "    #Redundancy 1\n",
        "    if 'آنچه' in line.split():\n",
        "      Redunduncy_1_lines = Redunduncy_1_lines + 1\n",
        "      Redun1.write(line)\n",
        "\n",
        "    #اگرچه .......... اما\n",
        "    #Redundancy 2\n",
        "    if 'اگرچه' in line.split():\n",
        "      Redunduncy_2_lines = Redunduncy_2_lines + 1\n",
        "      Redun2.write(line)\n",
        "\n",
        "    #برای فعل و اسم همان دیتاست اصلی در نظر گرفته می‌شود"
      ],
      "metadata": {
        "id": "P2kduu2yKPX2"
      },
      "execution_count": null,
      "outputs": []
    },
    {
      "cell_type": "code",
      "source": [
        "#number of lines for each dataset\n",
        "\n",
        "print(\"Number of lines containing 'را' is \" + str(CLITIC_lines))\n",
        "print(\"Number of lines containing 'آنچه' is \" + str(Redunduncy_1_lines))\n",
        "print(\"Number of lines containing 'اگرچه' is \" + str(Redunduncy_2_lines))"
      ],
      "metadata": {
        "id": "JSehK4jlLuHS"
      },
      "execution_count": null,
      "outputs": []
    },
    {
      "cell_type": "markdown",
      "source": [
        "#Do POST Tagging"
      ],
      "metadata": {
        "id": "wOqRt8REQogV"
      }
    },
    {
      "cell_type": "code",
      "source": [
        "#Do POS tagging with model and save it in a file\n",
        "\n",
        "#CLITIC\n",
        "pos_tagger = POSTagger(model='./drive/MyDrive/GEC/Models/pos_tagger.model')\n",
        "with open(\"/content/drive/MyDrive/GEC/Data/CLITIC/Data\",'r') as f1, open(\"/content/drive/MyDrive/GEC/Data/CLITIC/Data_POS\",'w') as f2:\n",
        "  for line in f1:\n",
        "    f2.write(str(pos_tagger.tag(word_tokenize(line))))\n",
        "    f2.write('\\n')\n",
        "#Anche\n",
        "with open(\"/content/drive/MyDrive/GEC/Data/Redundancy/AncheKe/Data\",'r') as f1, open(\"/content/drive/MyDrive/GEC/Data/Redundancy/AncheKe/Data_POS\",'w') as f2:\n",
        "  for line in f1:\n",
        "    f2.write(str(pos_tagger.tag(word_tokenize(line))))\n",
        "    f2.write('\\n')\n",
        "\n",
        "#Acharche\n",
        "with open(\"/content/drive/MyDrive/GEC/Data/Redundancy/AgarcheAmma/Data\",'r') as f1, open(\"/content/drive/MyDrive/GEC/Data/Redundancy/AgarcheAmma/Data_POS\",'w') as f2:\n",
        "  for line in f1:\n",
        "    f2.write(str(pos_tagger.tag(word_tokenize(line))))\n",
        "    f2.write('\\n')\n",
        "\n"
      ],
      "metadata": {
        "id": "hSPCSrFsRzQO"
      },
      "execution_count": 4,
      "outputs": []
    },
    {
      "cell_type": "code",
      "source": [
        "#فعل و اسم\n",
        "with open(\"/content/drive/MyDrive/GEC/Data/News\",'r') as f1, open(\"/content/drive/MyDrive/GEC/Data/News_POS\",'w') as f2:\n",
        "  for line in f1:\n",
        "    f2.write(str(pos_tagger.tag(word_tokenize(line))))\n",
        "    f2.write('\\n')"
      ],
      "metadata": {
        "id": "FA8NJvE8Hau9"
      },
      "execution_count": 5,
      "outputs": []
    },
    {
      "cell_type": "code",
      "source": [],
      "metadata": {
        "id": "b--Pu7SDjriD"
      },
      "execution_count": null,
      "outputs": []
    }
  ]
}